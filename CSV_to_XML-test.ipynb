{
 "cells": [
  {
   "cell_type": "code",
   "execution_count": null,
   "metadata": {},
   "outputs": [],
   "source": [
    "    # shell commands with !\n",
    "# ! pip install dicttoxml\n",
    "# https://towardsdatascience.com/the-easy-way-to-work-with-csv-json-and-xml-in-python-5056f9325ca9\n",
    "import pandas as pd\n",
    "from dicttoxml import dicttoxml"
   ]
  },
  {
   "cell_type": "code",
   "execution_count": 6,
   "metadata": {},
   "outputs": [
    {
     "data": {
      "text/plain": [
       "['Pretest Avg',\n",
       " 'Posttest Avg',\n",
       " 'Course Name ',\n",
       " 'StudentID',\n",
       " 'QuizCreated',\n",
       " 'DataExported',\n",
       " 'id1',\n",
       " 'id2',\n",
       " 'id3',\n",
       " 'id4',\n",
       " 'id5',\n",
       " 'id6',\n",
       " 'id7',\n",
       " 'id8',\n",
       " 'id9',\n",
       " 'id10',\n",
       " 'id11',\n",
       " 'id12',\n",
       " 'id13',\n",
       " 'id14',\n",
       " 'id15',\n",
       " 'id16',\n",
       " 'id17',\n",
       " 'id18',\n",
       " 'id19',\n",
       " 'id20',\n",
       " 'id21',\n",
       " 'id22',\n",
       " 'id23',\n",
       " 'id24',\n",
       " 'id25',\n",
       " 'id26',\n",
       " 'id27']"
      ]
     },
     "execution_count": 6,
     "metadata": {},
     "output_type": "execute_result"
    }
   ],
   "source": [
    "myFile = \"BostonZipgradeCsv.csv\"\n",
    "data = pd.read_csv(myFile)\n",
    "data.head\n",
    "list(data)"
   ]
  },
  {
   "cell_type": "code",
   "execution_count": 78,
   "metadata": {
    "pycharm": {
     "name": "#%%\n"
    }
   },
   "outputs": [],
   "source": [
    "# https://stackoverflow.com/questions/18574108/how-do-convert-a-pandas-dataframe-to-xml\n",
    "# use ElementTree\n",
    "# https://docs.python.org/2/library/xml.etree.elementtree.html\n",
    "import xml.etree.cElementTree as ET\n",
    "\n",
    "str1 = \"mystring\"\n",
    "\n",
    "\n",
    "## First...\n",
    "# We generate the general structure of the XML fi\n",
    "root = ET.Element(\"Manifest\")\n",
    "doc = ET.SubElement(root, \"submission\")\n",
    "trainingprovider = ET.SubElement(doc, \n",
    "                                 \"trainingprovider\", \n",
    "                                 tpemail=\"testsetestsetstst@ruraltraining.org\",\n",
    "                                 tpid=str1,\n",
    "                                 tpphone=\"6066776000\") \n",
    "\n",
    "trainingprovider.text = \"res@ruraltraining.org\"\n",
    "\n",
    "structureClass = ET.SubElement(trainingprovider, \"class\", \n",
    "             catalognum=\"AWR-144\",\n",
    "classcity=\"Hoboken\",\n",
    "classstate=\"NJ\",\n",
    "classtype=\"I\",\n",
    "classzipcode=\"07030\",\n",
    "startdate=\"08102018\",\n",
    "enddate=\"08102018\",\n",
    "numstudent=\"40\",\n",
    "trainingmethod=\"M\",\n",
    "starttime=\"0900\",\n",
    "endtime=\"1700\",\n",
    "contacthours=\"8\",\n",
    "preparerlastname=\"Melton\",\n",
    "preparerfirstname=\"Jessica\",\n",
    "batchpreparerphone=\"6066776000\",\n",
    "batchprepareremail=\"res@ruraltraining.org\")\n",
    "\n",
    "ET.SubElement(structureClass, \"instructorpoc\", \n",
    "             instlastname=\"Thomas\",\n",
    "instfirstname=\"Laurie\",\n",
    "instphone=\"6066776000\",\n",
    "instemail=\"Laurie.Thomas@ruraltraining.org\"\n",
    "             )\n",
    "\n",
    "tagRegistration = ET.SubElement(structureClass, \"registration\")\n",
    "tagEvaluations = ET.SubElement(structureClass, \"evaluations\")\n",
    "\n",
    "# Make student records for registration section\n",
    "## MAKE a for loop\n",
    "## for each entry, run the following to sub in values\n",
    "## and map data to an attribute\n",
    "# https://cmdlinetips.com/2018/12/how-to-loop-through-pandas-rows-or-how-to-iterate-over-pandas-rows/\n",
    "for index, row in data.iterrows():\n",
    "    str_sid = str(row['StudentID'])\n",
    "    ET.SubElement(tagRegistration, \"student\", \n",
    "                  QuizCreated=str(row['QuizCreated']),\n",
    "                  StudentID=str(row['StudentID']))\n",
    "    # now make anonymized evalData\n",
    "    # ET.SubElement(tagEvaluations, \"evaldata\")\n",
    "    # tagEvaluation.append(\"evaldata\")\n",
    "    \n",
    "##    print(index, row)\n",
    "    \n",
    "# Make student records for evaluation section\n",
    "\n",
    "\n",
    "tree = ET.ElementTree(root)\n",
    "tree.write(\"filename.xml\", encoding=\"utf-8\", xml_declaration=True)"
   ]
  },
  {
   "cell_type": "code",
   "execution_count": null,
   "outputs": [],
   "source": [
    "\n"
   ],
   "metadata": {
    "collapsed": false,
    "pycharm": {
     "name": "#%%\n"
    }
   }
  }
 ],
 "metadata": {
  "kernelspec": {
   "display_name": "Python 3",
   "language": "python",
   "name": "python3"
  },
  "language_info": {
   "codemirror_mode": {
    "name": "ipython",
    "version": 3
   },
   "file_extension": ".py",
   "mimetype": "text/x-python",
   "name": "python",
   "nbconvert_exporter": "python",
   "pygments_lexer": "ipython3",
   "version": "3.7.3"
  },
  "pycharm": {
   "stem_cell": {
    "cell_type": "raw",
    "source": [],
    "metadata": {
     "collapsed": false
    }
   }
  }
 },
 "nbformat": 4,
 "nbformat_minor": 2
}